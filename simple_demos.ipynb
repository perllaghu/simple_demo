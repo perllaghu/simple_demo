{
 "cells": [
  {
   "cell_type": "markdown",
   "id": "6a42f6c3",
   "metadata": {},
   "source": [
    "<div class = \"alert alert-block alert-info\">\n",
    "    <h1>Simple calculations</h1>\n",
    "</div>"
   ]
  },
  {
   "cell_type": "markdown",
   "id": "e0c77933",
   "metadata": {},
   "source": [
    "## Calculate the circumference of a circle\n"
   ]
  },
  {
   "cell_type": "code",
   "execution_count": null,
   "id": "e872aa76",
   "metadata": {},
   "outputs": [],
   "source": [
    "radius = 12.5\n",
    "pi = 3.14159\n",
    "circumference = 2 * pi * radius\n",
    "print(f\"Circumference is {circumference}\")"
   ]
  },
  {
   "cell_type": "markdown",
   "id": "f0dc1822",
   "metadata": {},
   "source": [
    "Very early days of `print`, to get a _formatted_ string, you had to do `\"Circumference is %d %s\" % number string`\n",
    "\n",
    "When python 3 launched, it introduced **format**: `\"Circumference is {} {}\".format(number, string)`\n",
    "\n",
    "With python 3.6+, we got **f-strings**: `f\"Circumference is {circumference}\"`"
   ]
  },
  {
   "cell_type": "markdown",
   "id": "af12245d",
   "metadata": {},
   "source": [
    "### What happens if you change the radius and re-run the cell?"
   ]
  },
  {
   "cell_type": "markdown",
   "id": "d3611931",
   "metadata": {},
   "source": [
    "<div class = \"alert alert-block alert-info\">\n",
    "    <h1>Drawing graphs</h1>\n",
    "</div>"
   ]
  },
  {
   "cell_type": "markdown",
   "id": "b9418e0f",
   "metadata": {},
   "source": [
    "## [`matplotlib`](https://matplotlib.org/) is one of the fundamental graphing/plotting libraries for python\n",
    "\n",
    "[`numpy`](https://numpy.org/doc/stable/) is a fundamental library for numerical and scientific computing in python"
   ]
  },
  {
   "cell_type": "code",
   "execution_count": null,
   "id": "640f10ec",
   "metadata": {},
   "outputs": [],
   "source": [
    "import matplotlib\n",
    "import numpy\n",
    "\n",
    "%matplotlib inline\n",
    "fig, ax = matplotlib.pyplot.subplots()\n",
    "numpy.random.seed(0)\n",
    "x, y = numpy.random.normal(size=(2, 100))\n",
    "color, size = numpy.random.random((2, 100))\n",
    "\n",
    "ax.scatter(x, y, c=color, s=500 * size, alpha=0.3)\n",
    "ax.grid(color='lightgray', alpha=0.7)"
   ]
  },
  {
   "cell_type": "markdown",
   "id": "9586373b",
   "metadata": {},
   "source": [
    "## [`altair`](https://altair-viz.github.io/) is a modern library for drawing nice graphs\n",
    "\n",
    "[`pandas`](https://pandas.pydata.org/docs/) is probably the _go-to_ library for working with \"structured data\""
   ]
  },
  {
   "cell_type": "code",
   "execution_count": null,
   "id": "26766a7d",
   "metadata": {},
   "outputs": [],
   "source": [
    "import altair\n",
    "import pandas\n",
    "source = pandas.DataFrame({\n",
    "    'a': ['A', 'B', 'C', 'D', 'E', 'F', 'G', 'H', 'I'],\n",
    "    'b': [28, 55, 43, 91, 81, 53, 19, 87, 52]\n",
    "})\n",
    "\n",
    "altair.Chart(source).mark_bar().encode(\n",
    "    x='a',\n",
    "    y='b'\n",
    ")"
   ]
  },
  {
   "cell_type": "markdown",
   "id": "95099396",
   "metadata": {},
   "source": [
    "<div class = \"alert alert-block alert-info\">\n",
    "    <h1>Interactive widgets</h1>\n",
    "</div>"
   ]
  },
  {
   "cell_type": "markdown",
   "id": "d81c962f",
   "metadata": {},
   "source": [
    "## [`ipwidgets`](https://github.com/jupyter-widgets/ipywidgets#readme) is a library for providing interactive HTML widgets in jupyter notebooks"
   ]
  },
  {
   "cell_type": "code",
   "execution_count": null,
   "id": "eb9bc620",
   "metadata": {},
   "outputs": [],
   "source": [
    "%matplotlib inline\n",
    "\n",
    "import ipywidgets\n",
    "\n",
    "def f(t,a=1,b=6,c=-14,d=0):\n",
    "    return numpy.exp(a*1j*t) - numpy.exp(b*1j*t)/2 + 1j*numpy.exp(c*1j*t)/3 + numpy.exp(d*1j*t)/4\n",
    " \n",
    "def plot_swirly(a=1,b=6,c=-14,d=0):\n",
    "    t = numpy.linspace(0, 2*numpy.pi, 1000)\n",
    "    ft = f(t,a,b,c,d) \n",
    "    matplotlib.pyplot.plot(numpy.real(ft), numpy.imag(ft))\n",
    "\n",
    "    # These two lines make the aspect ratio square\n",
    "    fig = matplotlib.pyplot.gcf()\n",
    "    fig.set_size_inches(6, 6, forward='True')\n",
    "\n",
    "ipywidgets.interact(plot_swirly,a=(-20,20),b=(-20,20),c=(-20,20),d=(-20,20));"
   ]
  },
  {
   "cell_type": "code",
   "execution_count": null,
   "id": "d1014247",
   "metadata": {},
   "outputs": [],
   "source": []
  }
 ],
 "metadata": {
  "kernelspec": {
   "display_name": "Python 3 (ipykernel)",
   "language": "python",
   "name": "python3"
  },
  "language_info": {
   "codemirror_mode": {
    "name": "ipython",
    "version": 3
   },
   "file_extension": ".py",
   "mimetype": "text/x-python",
   "name": "python",
   "nbconvert_exporter": "python",
   "pygments_lexer": "ipython3",
   "version": "3.9.12"
  }
 },
 "nbformat": 4,
 "nbformat_minor": 5
}
